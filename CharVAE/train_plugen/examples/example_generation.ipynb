{
 "cells": [
  {
   "cell_type": "markdown",
   "metadata": {},
   "source": [
    "# Description"
   ]
  },
  {
   "cell_type": "markdown",
   "metadata": {},
   "source": [
    "In the following notebook I will show, how to take trained plugen, load it, load the dataset and then generate molecules with changed molecular features."
   ]
  },
  {
   "cell_type": "code",
   "execution_count": null,
   "metadata": {},
   "outputs": [],
   "source": []
  },
  {
   "cell_type": "code",
   "execution_count": 1,
   "metadata": {},
   "outputs": [],
   "source": [
    "import numpy as np\n",
    "import pandas as pd\n",
    "import matplotlib.pyplot as plt\n",
    "from tqdm import tqdm\n",
    "\n",
    "import rdkit\n",
    "import rdkit.Chem as Chem\n",
    "from rdkit.Chem import AllChem\n",
    "from rdkit.Chem import Crippen\n",
    "from rdkit.Chem import QED\n",
    "from rdkit import RDLogger\n",
    "\n",
    "import torch\n",
    "from torchtext import data\n",
    "import torch.distributions as D\n",
    "\n",
    "RDLogger.DisableLog('rdApp.*')   "
   ]
  },
  {
   "cell_type": "code",
   "execution_count": 2,
   "metadata": {},
   "outputs": [],
   "source": [
    "from src.vae import VAE, EncoderRNN, DecoderRNN, MSP\n",
    "from src.flow import FlowModel\n",
    "from src.loss import msp_vae_loss\n",
    "from src.data_utils import get_dataset\n",
    "from src.utils import return_smiles, return_input_smiles, fingerprint_similarity, ecfp_from_mol"
   ]
  },
  {
   "cell_type": "code",
   "execution_count": null,
   "metadata": {},
   "outputs": [],
   "source": []
  },
  {
   "cell_type": "markdown",
   "metadata": {},
   "source": [
    "# Load model"
   ]
  },
  {
   "cell_type": "code",
   "execution_count": 4,
   "metadata": {},
   "outputs": [],
   "source": [
    "device = 'cuda'"
   ]
  },
  {
   "cell_type": "code",
   "execution_count": 5,
   "metadata": {},
   "outputs": [],
   "source": [
    "data_path = './data/250k_tpsa.csv'\n",
    "features = ['logP', 'tpsa', 'SAS']\n",
    "z_size = 100"
   ]
  },
  {
   "cell_type": "code",
   "execution_count": 6,
   "metadata": {},
   "outputs": [],
   "source": [
    "dataset, SRC, BOS_WORD, EOS_WORD, BLANK_WORD = get_dataset(data_path, features)\n",
    "SOS_TOKEN = SRC.vocab.stoi[BOS_WORD]\n",
    "\n",
    "encoder = EncoderRNN(input_size=len(SRC.vocab.itos), hidden_size=256, output_size=100, n_layers=3)\n",
    "decoder = DecoderRNN(input_size=100, hidden_size=256, output_size=len(SRC.vocab.itos), n_layers=3, sos_token=SOS_TOKEN)\n",
    "vae = VAE(encoder, decoder).to(device)\n",
    "flow = FlowModel(100, 6, 6, 256)\n",
    "model = MSP(vae, flow, label_size=3).to(device)"
   ]
  },
  {
   "cell_type": "code",
   "execution_count": 7,
   "metadata": {},
   "outputs": [
    {
     "data": {
      "text/plain": [
       "<All keys matched successfully>"
      ]
     },
     "execution_count": 7,
     "metadata": {},
     "output_type": "execute_result"
    }
   ],
   "source": [
    "model.load_state_dict(torch.load(f'./saved/plugen/final_model.pt'))"
   ]
  },
  {
   "cell_type": "code",
   "execution_count": 8,
   "metadata": {},
   "outputs": [],
   "source": [
    "train_iter = data.BucketIterator(dataset=dataset, batch_size=32)"
   ]
  },
  {
   "cell_type": "code",
   "execution_count": null,
   "metadata": {},
   "outputs": [],
   "source": []
  },
  {
   "cell_type": "markdown",
   "metadata": {},
   "source": [
    "# Load dataset"
   ]
  },
  {
   "cell_type": "code",
   "execution_count": 9,
   "metadata": {},
   "outputs": [
    {
     "data": {
      "text/plain": [
       "(2.457093002906336, 64.82102034435067, 3.053235235089898)"
      ]
     },
     "execution_count": 9,
     "metadata": {},
     "output_type": "execute_result"
    }
   ],
   "source": [
    "data_df = pd.read_csv(data_path)\n",
    "logp_mean, logp_std = data_df.logP.mean(), data_df.logP.std()\n",
    "tpsa_mean, tpsa_std = data_df.tpsa.mean(), data_df.tpsa.std()\n",
    "sas_mean, sas_std = data_df.SAS.mean(), data_df.SAS.std()\n",
    "logp_mean, tpsa_mean, sas_mean"
   ]
  },
  {
   "cell_type": "code",
   "execution_count": 13,
   "metadata": {},
   "outputs": [
    {
     "data": {
      "text/html": [
       "<div>\n",
       "<style scoped>\n",
       "    .dataframe tbody tr th:only-of-type {\n",
       "        vertical-align: middle;\n",
       "    }\n",
       "\n",
       "    .dataframe tbody tr th {\n",
       "        vertical-align: top;\n",
       "    }\n",
       "\n",
       "    .dataframe thead th {\n",
       "        text-align: right;\n",
       "    }\n",
       "</style>\n",
       "<table border=\"1\" class=\"dataframe\">\n",
       "  <thead>\n",
       "    <tr style=\"text-align: right;\">\n",
       "      <th></th>\n",
       "      <th>logP</th>\n",
       "      <th>tpsa</th>\n",
       "      <th>SAS</th>\n",
       "    </tr>\n",
       "  </thead>\n",
       "  <tbody>\n",
       "    <tr>\n",
       "      <th>logP</th>\n",
       "      <td>1.000000</td>\n",
       "      <td>-0.161545</td>\n",
       "      <td>-0.515024</td>\n",
       "    </tr>\n",
       "    <tr>\n",
       "      <th>tpsa</th>\n",
       "      <td>-0.161545</td>\n",
       "      <td>1.000000</td>\n",
       "      <td>-0.185461</td>\n",
       "    </tr>\n",
       "    <tr>\n",
       "      <th>SAS</th>\n",
       "      <td>-0.515024</td>\n",
       "      <td>-0.185461</td>\n",
       "      <td>1.000000</td>\n",
       "    </tr>\n",
       "  </tbody>\n",
       "</table>\n",
       "</div>"
      ],
      "text/plain": [
       "          logP      tpsa       SAS\n",
       "logP  1.000000 -0.161545 -0.515024\n",
       "tpsa -0.161545  1.000000 -0.185461\n",
       "SAS  -0.515024 -0.185461  1.000000"
      ]
     },
     "execution_count": 13,
     "metadata": {},
     "output_type": "execute_result"
    }
   ],
   "source": [
    "data_df.corr()"
   ]
  },
  {
   "cell_type": "code",
   "execution_count": 14,
   "metadata": {},
   "outputs": [
    {
     "data": {
      "image/png": "[encoded data removed]",
      "text/plain": [
       "<Figure size 1152x288 with 3 Axes>"
      ]
     },
     "metadata": {
      "needs_background": "light"
     },
     "output_type": "display_data"
    }
   ],
   "source": [
    "plt.figure(figsize=(16,4))\n",
    "\n",
    "\n",
    "###\n",
    "plt.subplot(1, 3, 1)\n",
    "sns.kdeplot(data_df.logP.values, linewidth=2.5, fill=True)\n",
    "plt.title(\"LogP\", fontsize=40)\n",
    "plt.ylabel('')\n",
    "plt.xticks(fontsize=25)\n",
    "plt.xlim(-5, 9)\n",
    "\n",
    "ax = plt.gca()\n",
    "for label in ax.xaxis.get_ticklabels()[::2]:\n",
    "    label.set_visible(False)\n",
    "\n",
    "\n",
    "###\n",
    "plt.subplot(1, 3, 2)\n",
    "sns.kdeplot(data_df.tpsa.values, linewidth=2.5, fill=True)\n",
    "plt.title(\"TPSA\", fontsize=40)\n",
    "plt.ylabel('')\n",
    "plt.xticks(np.arange(-20, 161, 20), fontsize=25)\n",
    "plt.xlim(-25, 170)\n",
    "\n",
    "ax = plt.gca()\n",
    "for label in ax.xaxis.get_ticklabels()[::2]:\n",
    "    label.set_visible(False)\n",
    "\n",
    "\n",
    "# # ###\n",
    "plt.subplot(1, 3, 3)\n",
    "sns.kdeplot(data_df.SAS.values, linewidth=2.5, fill=True)\n",
    "plt.title(\"SAS\", fontsize=40)\n",
    "plt.ylabel('')\n",
    "plt.xticks(fontsize=25)\n",
    "plt.xlim(1, 7.5)\n",
    "\n",
    "ax = plt.gca()\n",
    "for label in ax.xaxis.get_ticklabels()[::2]:\n",
    "    label.set_visible(False)\n",
    "\n",
    "plt.show()"
   ]
  },
  {
   "cell_type": "code",
   "execution_count": null,
   "metadata": {},
   "outputs": [],
   "source": []
  },
  {
   "cell_type": "markdown",
   "metadata": {},
   "source": [
    "# Features generation"
   ]
  },
  {
   "cell_type": "markdown",
   "metadata": {},
   "source": [
    "In this setting, we iterate through the dataset and change the LogP of every molecule to the specified value. The values of other properties remain the same. However one could also establish their value to constant or for example to dataset mean."
   ]
  },
  {
   "cell_type": "markdown",
   "metadata": {},
   "source": [
    "### 1.5"
   ]
  },
  {
   "cell_type": "code",
   "execution_count": 14,
   "metadata": {},
   "outputs": [
    {
     "name": "stderr",
     "output_type": "stream",
     "text": [
      "100%|██████████| 50/50 [00:18<00:00,  2.69it/s]\n"
     ]
    },
    {
     "name": "stdout",
     "output_type": "stream",
     "text": [
      "generated    1.972084\n",
      "dtype: float64\n"
     ]
    },
    {
     "data": {
      "image/png": "[encoded data removed]",
      "text/plain": [
       "<Figure size 432x288 with 1 Axes>"
      ]
     },
     "metadata": {
      "needs_background": "light"
     },
     "output_type": "display_data"
    }
   ],
   "source": [
    "batch_size = 512\n",
    "\n",
    "all_generated_logP = []\n",
    "\n",
    "for batch_num in tqdm(range(50)):\n",
    "    make_labels = torch.randn((batch_size,z_size)).to(device)\n",
    "    \n",
    "    make_labels[:,0] = 1.5\n",
    "    make_labels[:,1] = torch.randn((batch_size)).to(device) * tpsa_std + tpsa_mean\n",
    "    make_labels[:,2] = torch.randn((batch_size)).to(device) * sas_std + sas_mean\n",
    "    \n",
    "    new_z = model.flow.inv_flow(make_labels)\n",
    "    generated = vae.decoder.generate(new_z, n_steps=60, temperature=1.)\n",
    "\n",
    "    smi_list = return_smiles(generated, SRC)\n",
    "    mol_list = [Chem.MolFromSmiles(smi) for smi in smi_list]\n",
    "    mol_list = [mol for mol in mol_list if mol is not None]\n",
    "\n",
    "    all_generated_logP.append([Chem.Crippen.MolLogP(mol) for mol in mol_list])\n",
    "    \n",
    "generated_logP_15 = [x for logP_list in all_generated_logP for x in logP_list]\n",
    "\n",
    "scores_df = pd.DataFrame(\n",
    "    {'generated': generated_logP_15})\n",
    "\n",
    "print(scores_df.mean())\n",
    "\n",
    "# scores_df.generated.plot.density()\n",
    "scores_df.generated.plot.hist(bins=50)\n",
    "plt.legend()\n",
    "plt.show()"
   ]
  },
  {
   "cell_type": "code",
   "execution_count": null,
   "metadata": {},
   "outputs": [],
   "source": []
  },
  {
   "cell_type": "markdown",
   "metadata": {},
   "source": [
    "### 3.0"
   ]
  },
  {
   "cell_type": "code",
   "execution_count": 15,
   "metadata": {},
   "outputs": [
    {
     "name": "stderr",
     "output_type": "stream",
     "text": [
      "100%|██████████| 50/50 [00:18<00:00,  2.70it/s]\n"
     ]
    },
    {
     "name": "stdout",
     "output_type": "stream",
     "text": [
      "generated    3.414952\n",
      "dtype: float64\n"
     ]
    },
    {
     "data": {
      "image/png": "[encoded data removed]",
      "text/plain": [
       "<Figure size 432x288 with 1 Axes>"
      ]
     },
     "metadata": {
      "needs_background": "light"
     },
     "output_type": "display_data"
    }
   ],
   "source": [
    "batch_size = 512\n",
    "\n",
    "all_generated_logP = []\n",
    "\n",
    "for batch_num in tqdm(range(50)):\n",
    "    make_labels = torch.randn((batch_size,z_size)).to(device)\n",
    "    \n",
    "    make_labels[:,0] = 3.0\n",
    "    make_labels[:,1] = torch.randn((batch_size)).to(device) * tpsa_std + tpsa_mean\n",
    "    make_labels[:,2] = torch.randn((batch_size)).to(device) * sas_std + sas_mean\n",
    "    \n",
    "    new_z = model.flow.inv_flow(make_labels)\n",
    "    generated = vae.decoder.generate(new_z, n_steps=60, temperature=1.)\n",
    "\n",
    "    smi_list = return_smiles(generated, SRC)\n",
    "    mol_list = [Chem.MolFromSmiles(smi) for smi in smi_list]\n",
    "    mol_list = [mol for mol in mol_list if mol is not None]\n",
    "\n",
    "    all_generated_logP.append([Chem.Crippen.MolLogP(mol) for mol in mol_list])\n",
    "    \n",
    "generated_logP_30 = [x for logP_list in all_generated_logP for x in logP_list]\n",
    "\n",
    "scores_df = pd.DataFrame(\n",
    "    {'generated': generated_logP_30})\n",
    "\n",
    "print(scores_df.mean())\n",
    "\n",
    "# scores_df.generated.plot.density()\n",
    "scores_df.generated.plot.hist(bins=50)\n",
    "plt.legend()\n",
    "plt.show()"
   ]
  },
  {
   "cell_type": "code",
   "execution_count": null,
   "metadata": {},
   "outputs": [],
   "source": []
  },
  {
   "cell_type": "markdown",
   "metadata": {},
   "source": [
    "### 4.5"
   ]
  },
  {
   "cell_type": "code",
   "execution_count": 16,
   "metadata": {},
   "outputs": [
    {
     "name": "stderr",
     "output_type": "stream",
     "text": [
      "100%|██████████| 50/50 [00:15<00:00,  3.17it/s]\n"
     ]
    },
    {
     "name": "stdout",
     "output_type": "stream",
     "text": [
      "generated    4.350046\n",
      "dtype: float64\n"
     ]
    },
    {
     "data": {
      "image/png": "[encoded data removed]",
      "text/plain": [
       "<Figure size 432x288 with 1 Axes>"
      ]
     },
     "metadata": {
      "needs_background": "light"
     },
     "output_type": "display_data"
    }
   ],
   "source": [
    "batch_size = 512\n",
    "\n",
    "all_generated_logP = []\n",
    "\n",
    "for batch_num in tqdm(range(50)):\n",
    "    make_labels = torch.randn((batch_size,z_size)).to(device)\n",
    "    \n",
    "    make_labels[:,0] = 4.5\n",
    "    make_labels[:,1] = torch.randn((batch_size)).to(device) * tpsa_std + tpsa_mean\n",
    "    make_labels[:,2] = torch.randn((batch_size)).to(device) * sas_std + sas_mean\n",
    "    \n",
    "    new_z = model.flow.inv_flow(make_labels)\n",
    "    generated = vae.decoder.generate(new_z, n_steps=60, temperature=1.)\n",
    "\n",
    "    smi_list = return_smiles(generated, SRC)\n",
    "    mol_list = [Chem.MolFromSmiles(smi) for smi in smi_list]\n",
    "    mol_list = [mol for mol in mol_list if mol is not None]\n",
    "\n",
    "    all_generated_logP.append([Chem.Crippen.MolLogP(mol) for mol in mol_list])\n",
    "    \n",
    "generated_logP_45 = [x for logP_list in all_generated_logP for x in logP_list]\n",
    "\n",
    "scores_df = pd.DataFrame(\n",
    "    {'generated': generated_logP_45})\n",
    "\n",
    "print(scores_df.mean())\n",
    "\n",
    "# scores_df.generated.plot.density()\n",
    "scores_df.generated.plot.hist(bins=50)\n",
    "plt.legend()\n",
    "plt.show()"
   ]
  },
  {
   "cell_type": "code",
   "execution_count": null,
   "metadata": {},
   "outputs": [],
   "source": []
  },
  {
   "cell_type": "markdown",
   "metadata": {},
   "source": [
    "### All together"
   ]
  },
  {
   "cell_type": "code",
   "execution_count": 19,
   "metadata": {},
   "outputs": [
    {
     "data": {
      "text/plain": [
       "(249455, 23859, 21701, 11070)"
      ]
     },
     "execution_count": 19,
     "metadata": {},
     "output_type": "execute_result"
    }
   ],
   "source": [
    "len(data_df.logP.values), len(generated_logP_15), len(generated_logP_30), len(generated_logP_45)"
   ]
  },
  {
   "cell_type": "code",
   "execution_count": 20,
   "metadata": {},
   "outputs": [],
   "source": [
    "sample_size = 11000\n",
    "\n",
    "scores_df = pd.DataFrame(\n",
    "    {'original': data_df.logP.values[:sample_size],\n",
    "     'generated 1.5': generated_logP_15[:sample_size],\n",
    "     'generated 3.0': generated_logP_30[:sample_size],\n",
    "     'generated 4.5': generated_logP_45[:sample_size]})\n",
    "\n",
    "original_df = pd.DataFrame({'original': data_df.logP.values})\n",
    "df_15 = pd.DataFrame({'generated 1.5': generated_logP_15})\n",
    "df_3 = pd.DataFrame({'generated 1.5': generated_logP_30})\n",
    "df_45 = pd.DataFrame({'generated 4.5': generated_logP_45})"
   ]
  },
  {
   "cell_type": "code",
   "execution_count": 23,
   "metadata": {},
   "outputs": [
    {
     "data": {
      "image/png": "[encoded data removed]",
      "text/plain": [
       "<Figure size 432x288 with 1 Axes>"
      ]
     },
     "metadata": {
      "needs_background": "light"
     },
     "output_type": "display_data"
    }
   ],
   "source": [
    "scores_df.plot.hist(bins=50, alpha=0.6, density=True)\n",
    "plt.legend()\n",
    "plt.show()"
   ]
  },
  {
   "cell_type": "code",
   "execution_count": null,
   "metadata": {},
   "outputs": [],
   "source": []
  }
 ],
 "metadata": {
  "kernelspec": {
   "display_name": "Python 3",
   "language": "python",
   "name": "python3"
  },
  "language_info": {
   "codemirror_mode": {
    "name": "ipython",
    "version": 3
   },
   "file_extension": ".py",
   "mimetype": "text/x-python",
   "name": "python",
   "nbconvert_exporter": "python",
   "pygments_lexer": "ipython3",
   "version": "3.8.2"
  }
 },
 "nbformat": 4,
 "nbformat_minor": 4
}
